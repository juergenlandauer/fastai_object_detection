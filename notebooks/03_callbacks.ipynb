{
 "cells": [
  {
   "cell_type": "code",
   "execution_count": null,
   "metadata": {},
   "outputs": [],
   "source": [
    "# default_exp callbacks"
   ]
  },
  {
   "cell_type": "markdown",
   "metadata": {},
   "source": [
    "# Callbacks\n",
    "\n",
    "> API details."
   ]
  },
  {
   "cell_type": "code",
   "execution_count": null,
   "metadata": {},
   "outputs": [
    {
     "name": "stdout",
     "output_type": "stream",
     "text": [
      "The autoreload extension is already loaded. To reload it, use:\n",
      "  %reload_ext autoreload\n"
     ]
    }
   ],
   "source": [
    "#hide\n",
    "%load_ext autoreload\n",
    "%autoreload 2\n",
    "from nbdev.showdoc import *\n",
    "\n",
    "import warnings\n",
    "warnings.filterwarnings(\"ignore\")"
   ]
  },
  {
   "cell_type": "code",
   "execution_count": null,
   "metadata": {},
   "outputs": [],
   "source": [
    "#export \n",
    "from fastai.callback.all import *\n",
    "from fastai.torch_basics import *\n",
    "from fastai.torch_core import *"
   ]
  },
  {
   "cell_type": "code",
   "execution_count": null,
   "metadata": {},
   "outputs": [],
   "source": [
    "#export\n",
    "class ObjDetAdapter(Callback):\n",
    "    \"\"\"Callback to convert batches from fastai's dataloader to the \n",
    "    expected input of object detection and instance segmentation models\"\"\"\n",
    "    \n",
    "    def __init__(self, pad_idx=0): self.pad_idx = pad_idx\n",
    "        \n",
    "    def after_create(self):\n",
    "        self.learn.save_xb = []\n",
    "        self.learn.save_yb = []\n",
    "\n",
    "    def before_batch(self):\n",
    "        self.learn.save_xb = self.learn.xb\n",
    "        self.learn.save_yb = self.learn.yb\n",
    "        \n",
    "        xb,yb = self.transform_batch(self.learn.xb[0], *self.learn.yb)\n",
    "        self.learn.xb = [xb[0],yb[0]]\n",
    "        self.learn.yb = []        \n",
    "        \n",
    "    def after_pred(self):\n",
    "        \n",
    "        # leave yb empty to skip loss calc\n",
    "        loss = sum(loss for loss in self.learn.pred.values())\n",
    "        self.learn.loss_grad = loss\n",
    "        self.learn.loss = self.learn.loss_grad.clone()\n",
    "        \n",
    "    def after_loss(self):\n",
    "        \n",
    "        # set yb for recorder to log train loss\n",
    "        self.learn.yb = self.learn.save_yb\n",
    "\n",
    "        if not self.learn.training:\n",
    "            # set model to eval to get predictions\n",
    "            self.learn.model.eval()\n",
    "            # transform batch to fasterrcnn´s expected input\n",
    "            xb,yb = self.transform_batch(self.learn.save_xb[0], *self.learn.save_yb)\n",
    "            # save predictions\n",
    "            self.learn.pred = self.learn.model(xb[0])\n",
    "            self.learn.yb = yb\n",
    "            self.learn.model.train()\n",
    "            \n",
    "\n",
    "    def after_batch(self):\n",
    "        self.learn.model.train()\n",
    "\n",
    "        \n",
    "    def before_validate(self):\n",
    "        # set model to train to get valid loss\n",
    "        self.learn.model.train()  \n",
    "\n",
    "        \n",
    "    def transform_batch(self,x1,*yb):\n",
    "        yb = [*yb]\n",
    "        \n",
    "        # check if with or without mask\n",
    "        with_mask = len(yb) == 3\n",
    "\n",
    "        bs,c,h,w = x1.shape\n",
    "        dev = x1.device\n",
    "\n",
    "        y={}\n",
    "        \n",
    "        keys = [\"masks\", \"boxes\", \"labels\"] if with_mask else [\"boxes\", \"labels\"]\n",
    "        for i,k in enumerate(keys):\n",
    "            y[k] = [e for e in yb[i]]\n",
    "            \n",
    "        y = [dict(zip(y,t)) for t in zip(*y.values())] # dict of lists to list of dicts\n",
    "\n",
    "        #new_y = []\n",
    "        for d in y:\n",
    "            # remove padding\n",
    "            filt = d[\"labels\"]!=self.pad_idx\n",
    "            for k in keys:\n",
    "                d[k] = d[k][filt]\n",
    "                \n",
    "            # remove empty bboxes\n",
    "            filt = (d[\"boxes\"][:,0]-d[\"boxes\"][:,2])*(d[\"boxes\"][:,1]-d[\"boxes\"][:,3])!=0\n",
    "\n",
    "            #filt = torch.eq(d[\"boxes\"], tensor([[0.,0.,0.,0.]], device=dev)).all(dim=1)\n",
    "            for k in keys:\n",
    "                d[k] = d[k][filt]\n",
    "            \n",
    "            # scale bboxes back\n",
    "            d[\"boxes\"] = (d[\"boxes\"]+1.)*tensor([w,h,w,h], device=dev)*0.5\n",
    "\n",
    "            if with_mask:\n",
    "                # filter out objects with empty masks\n",
    "                filt = d[\"masks\"].sum(dim=-1).sum(dim=-1)==0 \n",
    "                for k in keys:\n",
    "                    d[k] = d[k][~filt]\n",
    "    \n",
    "            #new_y.append(d)\n",
    "        return [x1],[y] # xb,yb"
   ]
  },
  {
   "cell_type": "code",
   "execution_count": null,
   "metadata": {},
   "outputs": [],
   "source": []
  }
 ],
 "metadata": {
  "kernelspec": {
   "display_name": "Python 3 (ipykernel)",
   "language": "python",
   "name": "python3"
  }
 },
 "nbformat": 4,
 "nbformat_minor": 2
}
