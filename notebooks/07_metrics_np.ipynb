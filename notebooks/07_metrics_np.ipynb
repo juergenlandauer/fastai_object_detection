{
 "cells": [
  {
   "cell_type": "code",
   "execution_count": null,
   "metadata": {},
   "outputs": [],
   "source": [
    "# default_exp metrics_np"
   ]
  },
  {
   "cell_type": "markdown",
   "metadata": {},
   "source": [
    "# Metrics NP\n",
    "\n",
    "> API details."
   ]
  },
  {
   "cell_type": "code",
   "execution_count": null,
   "metadata": {},
   "outputs": [
    {
     "name": "stdout",
     "output_type": "stream",
     "text": [
      "The autoreload extension is already loaded. To reload it, use:\n",
      "  %reload_ext autoreload\n"
     ]
    }
   ],
   "source": [
    "#hide\n",
    "%load_ext autoreload\n",
    "%autoreload 2\n",
    "from nbdev.showdoc import *\n",
    "\n",
    "import warnings\n",
    "warnings.filterwarnings(\"ignore\")"
   ]
  },
  {
   "cell_type": "code",
   "execution_count": null,
   "metadata": {},
   "outputs": [],
   "source": [
    "#export\n",
    "from mean_average_precision import MetricBuilder\n",
    "#from mean_average_precision import MeanAveragePrecision\n",
    "#from fastai.metrics import AvgMetric\n",
    "from fastai.metrics import Metric\n",
    "from fastai.torch_basics import *\n",
    "from fastai.torch_core import *\n",
    "#from functools import partial"
   ]
  },
  {
   "cell_type": "code",
   "execution_count": null,
   "metadata": {},
   "outputs": [],
   "source": [
    "#export\n",
    "class mAP_Metric_np():\n",
    "    \"Metric to calculate mAP for different IoU thresholds\"\n",
    "    def __init__(self, iou_thresholds, name, remove_background_class=True):\n",
    "        self.__name__ = name\n",
    "        self.iou_thresholds = iou_thresholds\n",
    "        self.remove_background_class = remove_background_class\n",
    "        \n",
    "    def __call__(self, preds, targs, num_classes):\n",
    "        if self.remove_background_class:\n",
    "            num_classes=num_classes-1\n",
    "        metric_fn = MetricBuilder.build_evaluation_metric(\"map_2d\", async_mode=True, num_classes=num_classes)\n",
    "        for sample_preds, sample_targs in self.create_metric_samples(preds, targs):\n",
    "            metric_fn.add(sample_preds, sample_targs)\n",
    "        metric_batch = metric_fn.value(iou_thresholds=self.iou_thresholds,\n",
    "                                       recall_thresholds=np.arange(0., 1.01, 0.01), \n",
    "                                       mpolicy='soft')['mAP']\n",
    "        return metric_batch\n",
    "    \n",
    "    def create_metric_samples(self, preds, targs):\n",
    "        pred_samples = []\n",
    "        for pred in preds:\n",
    "            res = torch.cat([pred[\"boxes\"], pred[\"labels\"].unsqueeze(-1), pred[\"scores\"].unsqueeze(-1)], dim=1) \n",
    "            pred_np = res.detach().cpu().numpy()\n",
    "            if self.remove_background_class:\n",
    "                # first idx is background\n",
    "                try:\n",
    "                    pred_np= pred_np-np.array([0,0,0,0,1,0])\n",
    "                except: pass\n",
    "            pred_samples.append(pred_np)\n",
    "\n",
    "        targ_samples = []\n",
    "        for targ in targs: # targs : yb[0]\n",
    "            targ = torch.cat([targ[\"boxes\"],targ[\"labels\"].unsqueeze(-1)], dim=1)\n",
    "            targ = torch.cat([targ, torch.zeros([targ.shape[0], 2], device=targ.device)], dim=1)\n",
    "            targ_np = np.array(targ.detach().cpu())\n",
    "            if self.remove_background_class:\n",
    "                # first idx is background \n",
    "                try:\n",
    "                    targ_np= targ_np-np.array([0,0,0,0,1,0,0])\n",
    "                except: pass\n",
    "            targ_samples.append(targ_np)\n",
    "\n",
    "        return [s for s in zip(pred_samples, targ_samples)]\n",
    "    "
   ]
  },
  {
   "cell_type": "code",
   "execution_count": null,
   "metadata": {},
   "outputs": [],
   "source": [
    "#export\n",
    "\n",
    "class _AvgMetric_ObjectDetection(Metric):\n",
    "    \"Average the values of `func` taking into account potential different batch sizes\"\n",
    "    def __init__(self, func): self.func = func\n",
    "    def reset(self): self.total,self.count = 0.,0\n",
    "    def accumulate(self, learn):\n",
    "        bs = len(learn.xb[0])\n",
    "        self.total += learn.to_detach(self.func(learn.pred, *learn.yb, num_classes=len(learn.dls.vocab)))*bs\n",
    "        self.count += bs\n",
    "    @property\n",
    "    def value(self): return self.total/self.count if self.count != 0 else None\n",
    "    @property\n",
    "    def name(self): return self.func.func.__name__ if hasattr(self.func, 'func') else  self.func.__name__\n",
    "    \n"
   ]
  },
  {
   "cell_type": "code",
   "execution_count": null,
   "metadata": {},
   "outputs": [],
   "source": [
    "#export\n",
    "def create_mAP_metric_np(iou_tresh=np.arange(0.5, 1.0, 0.05), metric_name=\"mAP@IoU 0.5:0.95\", remove_background_class=False):\n",
    "    return _AvgMetric_ObjectDetection(mAP_Metric_np(iou_tresh, metric_name, remove_background_class=remove_background_class)) "
   ]
  },
  {
   "cell_type": "code",
   "execution_count": null,
   "metadata": {},
   "outputs": [],
   "source": [
    "#export\n",
    " \n",
    "mAP_at_IoU40_np = _AvgMetric_ObjectDetection(mAP_Metric_np(0.4, \"mAP@IoU>0.4\", remove_background_class=True))\n",
    "mAP_at_IoU50_np = _AvgMetric_ObjectDetection(mAP_Metric_np(0.5, \"mAP@IoU>0.5\", remove_background_class=True))\n",
    "mAP_at_IoU60_np = _AvgMetric_ObjectDetection(mAP_Metric_np(0.6, \"mAP@IoU>0.6\", remove_background_class=True))\n",
    "mAP_at_IoU70_np = _AvgMetric_ObjectDetection(mAP_Metric_np(0.7, \"mAP@IoU>0.7\", remove_background_class=True))\n",
    "mAP_at_IoU80_np = _AvgMetric_ObjectDetection(mAP_Metric_np(0.8, \"mAP@IoU>0.8\", remove_background_class=True))\n",
    "mAP_at_IoU90_np = _AvgMetric_ObjectDetection(mAP_Metric_np(0.9, \"mAP@IoU>0.9\", remove_background_class=True))\n",
    "mAP_at_IoU50_95_np = _AvgMetric_ObjectDetection(mAP_Metric_np(np.arange(0.5, 1.0, 0.05), \"mAP@IoU 0.5:0.95\", remove_background_class=True)) "
   ]
  },
  {
   "cell_type": "code",
   "execution_count": null,
   "metadata": {},
   "outputs": [],
   "source": []
  }
 ],
 "metadata": {
  "kernelspec": {
   "display_name": "Python 3 (ipykernel)",
   "language": "python",
   "name": "python3"
  }
 },
 "nbformat": 4,
 "nbformat_minor": 2
}
