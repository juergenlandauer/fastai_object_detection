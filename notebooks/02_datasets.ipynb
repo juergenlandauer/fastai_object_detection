{
 "cells": [
  {
   "cell_type": "code",
   "execution_count": null,
   "metadata": {},
   "outputs": [],
   "source": [
    "# default_exp datasets"
   ]
  },
  {
   "cell_type": "markdown",
   "metadata": {},
   "source": [
    "# module name here\n",
    "\n",
    "> API details."
   ]
  },
  {
   "cell_type": "code",
   "execution_count": null,
   "metadata": {},
   "outputs": [
    {
     "name": "stdout",
     "output_type": "stream",
     "text": [
      "The autoreload extension is already loaded. To reload it, use:\n",
      "  %reload_ext autoreload\n"
     ]
    }
   ],
   "source": [
    "#hide\n",
    "from nbdev.showdoc import *\n",
    "%load_ext autoreload\n",
    "%autoreload 2"
   ]
  },
  {
   "cell_type": "code",
   "execution_count": null,
   "metadata": {},
   "outputs": [],
   "source": [
    "#export\n",
    "import contextlib\n",
    "import io\n",
    "from urllib.request import urlopen\n",
    "from random import shuffle\n",
    "from zipfile import ZipFile\n",
    "from fastai.data.external import URLs\n",
    "from fastai.imports import Path\n",
    "from fastai.vision.all import PILImage, PILMask, TensorImage, TensorMask, LabeledBBox, TensorBBox, image2tensor\n",
    "from fastprogress.fastprogress import master_bar, progress_bar\n",
    "from PIL import Image\n",
    "import pandas as pd\n",
    "import matplotlib.pyplot as plt\n",
    "from pycocotools.coco import COCO\n",
    "import numpy as np\n",
    "from shutil import rmtree\n",
    "from matplotlib import cm\n",
    "from matplotlib.colors import ListedColormap, Colormap"
   ]
  },
  {
   "cell_type": "code",
   "execution_count": null,
   "metadata": {},
   "outputs": [],
   "source": [
    "#export\n",
    "__all__ = ['CocoData']"
   ]
  },
  {
   "cell_type": "code",
   "execution_count": null,
   "metadata": {},
   "outputs": [],
   "source": [
    "#export\n",
    "class CocoData():\n",
    "    '''Creates dataset for object detection models by downloading images from coco dataset.\n",
    "    Specify the name of the dataset and which categories it contains.\n",
    "    If data_path is None it creates a new folder in fastai's data path, like untar_data().\n",
    "    By default only bounding boxes, optionally with masks and crowded objects.\n",
    "    '''\n",
    "    coco = None \n",
    "\n",
    "    @classmethod\n",
    "    def create(cls, ds_name, cat_list, data_path=None, with_mask=False, max_images=1000, remove_crowded=True):\n",
    "        \"\"\"Creates a new coco dataset with categories defined in cat_list\"\"\"\n",
    "\n",
    "        path = Path(URLs.path(c_key='data'))/ds_name if data_path is None else Path(data_path)/ds_name\n",
    "        path_images = path/\"images\"\n",
    "        path_masks = path/\"masks\"\n",
    "\n",
    "        if Path(path).is_dir():\n",
    "            print(f\"Dataset {ds_name} already exists: {path}\")\n",
    "            return cls.get_path_df(ds_name, data_path=data_path)\n",
    "\n",
    "        # create folders\n",
    "        print(\"Creating folders.\")\n",
    "        path.mkdir(exist_ok=False, parents=True)\n",
    "        path_images.mkdir()\n",
    "        if with_mask: path_masks.mkdir()\n",
    "\n",
    "        # download annotation files\n",
    "        annotations = 'annotations/instances_train2017.json'\n",
    "        if not (path/annotations).is_file():\n",
    "            cls._download_annotation_file(path)\n",
    "        if not (path/annotations).is_file():\n",
    "            print(\"Download was not successful. No annotation file found.\")\n",
    "            return\n",
    "        cls.coco = COCO(annotation_file=str(path/annotations))\n",
    "\n",
    "        # download images\n",
    "        cls._download_images(cat_list, path_images, max_images, remove_crowded)\n",
    "\n",
    "        # create dataframe\n",
    "        df = cls._create_dataframe(path, cat_list, with_mask)\n",
    "\n",
    "        return path, df\n",
    "\n",
    "\n",
    "    def get_path_df(ds_name, data_path=None):\n",
    "        \"\"\"Get path and dataframe of downloaded coco dataset.\"\"\"\n",
    "        path = Path(URLs.path(c_key='data'))/ds_name if data_path is None else Path(data_path)/ds_name\n",
    "        if path.is_dir():\n",
    "            if (path/\"df_train.csv\").is_file():\n",
    "                return (path, pd.read_csv(path/\"df_train.csv\"))\n",
    "            else:\n",
    "                print(\"No Dataframe found in \"+str(path))\n",
    "        else:\n",
    "            print(\"No dataset '\"+str(path)+\"' found.\")\n",
    "            print(\"Create dataset first with CocoData.create(ds_name, cat_list) or list available datasets with CocoData.ls()\")\n",
    "\n",
    "\n",
    "    def ls(data_path=None):\n",
    "        \"\"\"List all available datasets.\"\"\"\n",
    "        path = Path(URLs.path(c_key='data')) if data_path is None else Path(data_path)\n",
    "        if path.is_dir():\n",
    "            return list(path.ls())\n",
    "        else: print(f\"Path {path} does not exist.\")\n",
    "\n",
    "\n",
    "    def remove(ds_name, data_path=None):\n",
    "        \"\"\"Remove a downloaded coco dataset.\"\"\"\n",
    "        path = Path(URLs.path(c_key='data'))/ds_name if data_path is None else Path(data_path)/ds_name\n",
    "        if path.is_dir():\n",
    "            rmtree(path)\n",
    "            print(f\"{path} removed.\")\n",
    "        else:\n",
    "            print(f\"No dataset '{path}' found.\")\n",
    "\n",
    "\n",
    "    def show_examples(ds_name, data_path=None, n=3):\n",
    "        \"\"\"Show examples of a downloaded coco dataset.\"\"\"\n",
    "        _, df = CocoData.get_path_df(ds_name, data_path=data_path) \n",
    "        img_ids = [i for i in df.image_id.unique()]\n",
    "        shuffle(img_ids)\n",
    "        with_mask = \"mask_path\" in df.columns\n",
    "        from matplotlib import cm\n",
    "        # transparent, blue, red, yellow, green, orange, black  \n",
    "        # if more than 6 objects, rest is black\n",
    "        colors_cmap = [\"#ffffff99\", \"#0000ffcc\", \"#ff0000cc\",\"#ffff00cc\", \"#4bdd75cc\", \"#bd6914cc\", \"#000000cc\"] \n",
    "        cmap1 = ListedColormap(colors_cmap)\n",
    "        for img_id in img_ids[:n]:\n",
    "            filt = df.image_id == img_id\n",
    "            img_path = df.loc[filt,\"image_path\"].values[0]\n",
    "            img = PILImage.create(img_path)\n",
    "            bboxes = [box for box in df.loc[filt,[\"x_min\",\"y_min\",\"x_max\",\"y_max\"]].values]\n",
    "            labels = [label[0] for label in df.loc[filt,[\"class_name\"]].values]\n",
    "            if with_mask:\n",
    "                mask_path = df.loc[filt,\"mask_path\"].values[0]\n",
    "                mask = PILMask.create(mask_path)\n",
    "            fig,ax = plt.subplots(figsize=(8,8))\n",
    "            TensorImage(image2tensor(img)).show(ax=ax)\n",
    "            if with_mask:\n",
    "                TensorMask(mask).show(ax, cmap=cmap1, vmin=0, vmax=6)\n",
    "            LabeledBBox(TensorBBox(bboxes), labels).show(ax)\n",
    "            \n",
    "\n",
    "    def _download_annotation_file(path):\n",
    "        print(\"Downloading annotation files...\")\n",
    "        url = 'http://images.cocodataset.org/annotations/annotations_trainval2017.zip'\n",
    "        zipresp = urlopen(url)\n",
    "        zip_fn = path/'annotations_trainval2017.zip'\n",
    "        with open(zip_fn, 'wb') as zip:\n",
    "            zip.write(zipresp.read())\n",
    "        zf = ZipFile(zip_fn)\n",
    "        zf.extractall(path=str(path))\n",
    "        zf.close()\n",
    "        Path(zip_fn).unlink()\n",
    "\n",
    "\n",
    "    def _download_images(cat_list, path_images, max_images, remove_crowded):\n",
    "        cat_ids = CocoData.coco.getCatIds(catNms=cat_list);\n",
    "        idx2cat = {e['id']:e['name'] for e in CocoData.coco.loadCats(CocoData.coco.getCatIds())}\n",
    "        img_id2fn = {}\n",
    "        print(f\"Found {len(cat_ids)} valid categories.\")\n",
    "        print([idx2cat[e] for e in cat_ids])\n",
    "        print(\"Starting download.\")\n",
    "        mb = master_bar(range(len(cat_ids)))\n",
    "        for i in mb: \n",
    "            c_id = cat_ids[i]\n",
    "            print(f\"Downloading images of category {idx2cat[c_id]}\")\n",
    "            img_ids = CocoData.coco.getImgIds(catIds=c_id)\n",
    "            # small function to filter images with crowded objects\n",
    "            def _f(iid):\n",
    "                annos = CocoData.coco.loadAnns(CocoData.coco.getAnnIds(imgIds=iid))\n",
    "                annos = [a for a in annos if idx2cat[a[\"category_id\"]] in cat_list]\n",
    "                is_crowd = [a[\"iscrowd\"] for a in annos]\n",
    "                return 1 in is_crowd\n",
    "            if remove_crowded:\n",
    "                img_ids = [i for i in img_ids if not _f(i)]\n",
    "            if max_images is not None:\n",
    "                img_ids = img_ids[:max_images]\n",
    "            for i in img_ids: \n",
    "                img_id2fn[i] = path_images/(str(i).zfill(12)+\".jpg\")\n",
    "            for i in progress_bar(range(len(img_ids)), parent=mb):\n",
    "                with contextlib.redirect_stdout(io.StringIO()):\n",
    "                    CocoData.coco.download(path_images, [img_ids[i]])\n",
    "\n",
    "        print(len([fn for fn in path_images.ls()]), \"images downloaded.\")\n",
    "\n",
    "\n",
    "    def _create_dataframe(path, cat_list, with_mask,):\n",
    "        print(\"Creating Dataframe...\")\n",
    "        path_images = path/\"images\"\n",
    "        path_masks = path/\"masks\"\n",
    "        df_train = pd.DataFrame()\n",
    "\n",
    "        img_id2fn = {int(Path(fn).stem):fn for fn in path_images.ls()}\n",
    "        img_ids = [i for i in img_id2fn.keys()]\n",
    "        idx2cat = {e['id']:e['name'] for e in CocoData.coco.loadCats(CocoData.coco.getCatIds())}\n",
    "\n",
    "        for i in progress_bar(range(len(img_ids))):\n",
    "            img_id = img_ids[i]\n",
    "            annos = CocoData.coco.loadAnns(CocoData.coco.getAnnIds(imgIds=img_id))\n",
    "            # remove annotations of other labels \n",
    "            annos = [a for a in annos if idx2cat[a[\"category_id\"]] in cat_list]\n",
    "            # sort by area\n",
    "            area_dict = {a[\"area\"]:a for a in annos}\n",
    "            annos = [area_dict[k] for k in sorted(area_dict, reverse=True)]\n",
    "\n",
    "            n_objs = len(annos)\n",
    "\n",
    "            df_x_mins = [a[\"bbox\"][0] for a in annos]\n",
    "            df_y_mins = [a[\"bbox\"][1] for a in annos]\n",
    "            widths = [a[\"bbox\"][2] for a in annos]\n",
    "            heights = [a[\"bbox\"][3] for a in annos]\n",
    "            df_x_maxs = [df_x_mins[ia]+widths[ia] for ia in range(len(annos))]\n",
    "            df_y_maxs = [df_y_mins[ia]+heights[ia] for ia in range(len(annos))]\n",
    "            df_class_names = [idx2cat[a[\"category_id\"]] for a in annos]\n",
    "\n",
    "            df_img_id = [img_id] * n_objs\n",
    "            img_path = img_id2fn[img_id]\n",
    "            df_img_path = [str(img_path)] * n_objs\n",
    "\n",
    "            if with_mask:\n",
    "                df_mask_path = [] \n",
    "                df_obj_ids = [i for i in range(n_objs)]\n",
    "                mask = np.zeros(CocoData.coco.annToMask(annos[0]).shape, dtype=np.uint8)\n",
    "                for o_id in df_obj_ids:\n",
    "                    mask = CocoData.coco.annToMask(annos[o_id]) #* p_idx\n",
    "                    #mask[mask>p_idx] = p_idx # for overlapping parts\n",
    "                    mask_path = path_masks/(img_path.stem+\"_\"+str(o_id)+\".png\") # save mask always as png\n",
    "                    Image.fromarray(mask).save(mask_path)\n",
    "                    df_mask_path.append(str(mask_path))\n",
    "\n",
    "                df = pd.DataFrame({\"image_id\":df_img_id, \"image_path\":df_img_path, \n",
    "                                   \"mask_path\":df_mask_path, \"object_id\":df_obj_ids, \n",
    "                                   \"x_min\":df_x_mins, \"y_min\":df_y_mins, \"x_max\":df_x_maxs, \"y_max\":df_y_maxs,\n",
    "                                   \"class_name\":df_class_names})\n",
    "            else:\n",
    "                df = pd.DataFrame({\"image_id\":df_img_id, \"image_path\":df_img_path, \n",
    "                                   \"x_min\":df_x_mins, \"y_min\":df_y_mins, \"x_max\":df_x_maxs, \"y_max\":df_y_maxs,\n",
    "                                   \"class_name\":df_class_names})   \n",
    "                    \n",
    "            df_train = df_train.append(df)\n",
    "\n",
    "        df_train.reset_index(inplace=True, drop=True)\n",
    "        df_train.to_csv(str(path/\"df_train.csv\"), index=False)\n",
    "        return df_train"
   ]
  },
  {
   "cell_type": "code",
   "execution_count": null,
   "metadata": {},
   "outputs": [
    {
     "name": "stdout",
     "output_type": "stream",
     "text": [
      "Dataset coco-cats-dogs already exists: /home/user/.fastai/data/coco-cats-dogs\n"
     ]
    }
   ],
   "source": [
    "path, df = CocoData.create(\"coco-cats-dogs\", cat_list=[\"cat\", \"dog\"], max_images=500, with_mask=True)"
   ]
  },
  {
   "cell_type": "code",
   "execution_count": null,
   "metadata": {},
   "outputs": [
    {
     "name": "stdout",
     "output_type": "stream",
     "text": [
      "Dataset coco-cats-dogs already exists: /home/user/.fastai/data/coco-cats-dogs\n"
     ]
    }
   ],
   "source": [
    "path, df = CocoData.create(\"coco-cats-dogs\", cat_list=[\"cat\", \"dog\"], max_images=500, with_mask=True)"
   ]
  },
  {
   "cell_type": "code",
   "execution_count": null,
   "metadata": {},
   "outputs": [
    {
     "data": {
      "text/plain": [
       "[Path('/home/user/.fastai/data/coco-cats-dogs')]"
      ]
     },
     "execution_count": null,
     "metadata": {},
     "output_type": "execute_result"
    }
   ],
   "source": [
    "CocoData.ls()"
   ]
  },
  {
   "cell_type": "code",
   "execution_count": null,
   "metadata": {},
   "outputs": [],
   "source": [
    "#CocoData.show_examples(\"coco-cats-dogs\", n=3)"
   ]
  },
  {
   "cell_type": "code",
   "execution_count": null,
   "metadata": {},
   "outputs": [],
   "source": [
    "#import PIL\n",
    "#PIL.__version__"
   ]
  },
  {
   "cell_type": "code",
   "execution_count": null,
   "metadata": {},
   "outputs": [],
   "source": []
  }
 ],
 "metadata": {
  "kernelspec": {
   "display_name": "Python 3 (ipykernel)",
   "language": "python",
   "name": "python3"
  }
 },
 "nbformat": 4,
 "nbformat_minor": 2
}
