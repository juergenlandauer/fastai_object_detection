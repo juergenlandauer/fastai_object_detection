{
 "cells": [
  {
   "cell_type": "code",
   "execution_count": null,
   "metadata": {},
   "outputs": [],
   "source": [
    "# default_exp models"
   ]
  },
  {
   "cell_type": "markdown",
   "metadata": {},
   "source": [
    "# Models\n",
    "\n",
    "> How to implement new models"
   ]
  },
  {
   "cell_type": "code",
   "execution_count": null,
   "metadata": {},
   "outputs": [
    {
     "name": "stdout",
     "output_type": "stream",
     "text": [
      "The autoreload extension is already loaded. To reload it, use:\n",
      "  %reload_ext autoreload\n"
     ]
    }
   ],
   "source": [
    "#hide\n",
    "%load_ext autoreload\n",
    "%autoreload 2\n",
    "from nbdev.showdoc import *\n",
    "\n",
    "import warnings\n",
    "warnings.filterwarnings(\"ignore\")"
   ]
  },
  {
   "cell_type": "markdown",
   "metadata": {},
   "source": [
    "If you want to implement new models you can use following template:"
   ]
  },
  {
   "cell_type": "markdown",
   "metadata": {},
   "source": [
    "```python\n",
    "class ModelWrapper(nn.Module):\n",
    "    def __init__(self, **kwargs):\n",
    "        self.model = Model()\n",
    "        self.criterion = LossFn()\n",
    "        \n",
    "    def preprocess(self, x:Tensor, target:List[Dict[str,Tensor]]=None):\n",
    "        if target is None: \n",
    "            annotations = None\n",
    "        else:\n",
    "            annotations = FnIn(target)\n",
    "        return x, annotations\n",
    "    \n",
    "    def forward(self, *x):\n",
    "        imgs, targets = x if len(x)==2 else (x[0], None)\n",
    "        imgs, targets = self.preprocess(imgs, targets)\n",
    "        preds = self.model(imgs)\n",
    "        if targets is None:\n",
    "            return self.postprocess(preds)\n",
    "        else:\n",
    "            return self.criterion(preds,targets)\n",
    "        \n",
    "    def postprocess(self, preds) -> List[Dict[str,Tensor]]:\n",
    "        return FnOut(preds)\n",
    "          \n",
    "```"
   ]
  },
  {
   "cell_type": "markdown",
   "metadata": {},
   "source": [
    "`preprocess` receives targets from `ObjDetAdapter` as a list of dicts with the keys `boxes`, `labels` and optionally `masks` with tensors as values. The tensors have following shape (n: number of objects):\n",
    "* `labels: [n]`\n",
    "* `boxes: [n, 4]`\n",
    "* `masks: [n, h, w]`\n",
    "\n",
    "Then it converts this input to the input required by the model (`FnIn`).\n",
    "\n",
    "If there are targets present `forward` returns the loss (`Dict[str,Tensor]`), if not it calls `postprocess`, which converts the predictions (`FnOut`) to a list of dicts with the keys `boxes`, `labels` and optionally `masks` with tensors as values, which are getting passed to the metrics."
   ]
  },
  {
   "cell_type": "code",
   "execution_count": null,
   "metadata": {},
   "outputs": [],
   "source": []
  }
 ],
 "metadata": {
  "kernelspec": {
   "display_name": "Python 3 (ipykernel)",
   "language": "python",
   "name": "python3"
  }
 },
 "nbformat": 4,
 "nbformat_minor": 2
}
