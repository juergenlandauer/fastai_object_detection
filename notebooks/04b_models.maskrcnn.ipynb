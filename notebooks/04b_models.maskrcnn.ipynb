{
 "cells": [
  {
   "cell_type": "code",
   "execution_count": null,
   "metadata": {},
   "outputs": [],
   "source": [
    "# default_exp models.maskrcnn"
   ]
  },
  {
   "cell_type": "markdown",
   "metadata": {},
   "source": [
    "# MaskRCNN\n",
    "\n",
    "> API - details..."
   ]
  },
  {
   "cell_type": "code",
   "execution_count": null,
   "metadata": {},
   "outputs": [
    {
     "name": "stdout",
     "output_type": "stream",
     "text": [
      "The autoreload extension is already loaded. To reload it, use:\n",
      "  %reload_ext autoreload\n"
     ]
    }
   ],
   "source": [
    "#hide\n",
    "%load_ext autoreload\n",
    "%autoreload 2\n",
    "from nbdev.showdoc import *\n",
    "\n",
    "import warnings\n",
    "warnings.filterwarnings(\"ignore\")"
   ]
  },
  {
   "cell_type": "code",
   "execution_count": null,
   "metadata": {},
   "outputs": [],
   "source": [
    "#export\n",
    "\n",
    "from torchvision.models.detection.backbone_utils import resnet_fpn_backbone\n",
    "from torchvision.models.utils import load_state_dict_from_url\n",
    "from torchvision.models.detection.anchor_utils import AnchorGenerator\n",
    "from torchvision.models.detection import MaskRCNN\n",
    "from torchvision.ops.misc import FrozenBatchNorm2d\n",
    "from functools import partial\n",
    "from fastai.vision.all import delegates"
   ]
  },
  {
   "cell_type": "code",
   "execution_count": null,
   "metadata": {},
   "outputs": [],
   "source": [
    "#export \n",
    "#hide\n",
    "\n",
    "_model_urls = {\n",
    "    'maskrcnn_resnet50_fpn_coco':\n",
    "        'https://download.pytorch.org/models/maskrcnn_resnet50_fpn_coco-bf2d0c1e.pth',\n",
    "}"
   ]
  },
  {
   "cell_type": "code",
   "execution_count": null,
   "metadata": {},
   "outputs": [],
   "source": [
    "# export\n",
    "\n",
    "@delegates(MaskRCNN)\n",
    "def get_maskrcnn_model(arch_str, num_classes, pretrained=False, pretrained_backbone=True,\n",
    "                 trainable_layers=5, **kwargs):\n",
    "    \n",
    "    #if pretrained: pretrained_backbone = False\n",
    "        \n",
    "    backbone = resnet_fpn_backbone(arch_str, pretrained=pretrained_backbone, trainable_layers=trainable_layers)\n",
    "    model = MaskRCNN(backbone, \n",
    "                     num_classes, \n",
    "                     image_mean = [0.0, 0.0, 0.0], # already normalized by fastai\n",
    "                     image_std = [1.0, 1.0, 1.0],\n",
    "                     **kwargs)\n",
    "    \n",
    "    if pretrained:\n",
    "        try:\n",
    "            \n",
    "            pretrained_dict = load_state_dict_from_url(_model_urls['maskrcnn_'+arch_str+'_fpn_coco'],\n",
    "                                                       progress=True)\n",
    "            model_dict = model.state_dict()\n",
    "            \n",
    "            pretrained_dict = {k: v for k, v in pretrained_dict.items() if\n",
    "                       (k in model_dict) and (model_dict[k].shape == pretrained_dict[k].shape)}\n",
    "                     \n",
    "            model_dict.update(pretrained_dict) \n",
    "            model.load_state_dict(model_dict)\n",
    "            \n",
    "            for module in model.modules():\n",
    "                if isinstance(module, FrozenBatchNorm2d):\n",
    "                    module.eps = 0.0\n",
    "                    \n",
    "        except Exception as e: \n",
    "            #print(e)            \n",
    "            print(\"No pretrained coco model found for maskrcnn_\"+arch_str)\n",
    "            print(\"This does not affect the backbone.\")\n",
    "            \n",
    "    return model"
   ]
  },
  {
   "cell_type": "code",
   "execution_count": null,
   "metadata": {},
   "outputs": [],
   "source": [
    "#export\n",
    "#hide\n",
    "\n",
    "maskrcnn_resnet18 = partial(get_maskrcnn_model, arch_str=\"resnet18\")\n",
    "maskrcnn_resnet34 = partial(get_maskrcnn_model, arch_str=\"resnet34\")\n",
    "maskrcnn_resnet50 = partial(get_maskrcnn_model, arch_str=\"resnet50\")\n",
    "maskrcnn_resnet101 = partial(get_maskrcnn_model, arch_str=\"resnet101\")\n",
    "maskrcnn_resnet152 = partial(get_maskrcnn_model, arch_str=\"resnet152\")"
   ]
  },
  {
   "cell_type": "code",
   "execution_count": null,
   "metadata": {},
   "outputs": [],
   "source": []
  }
 ],
 "metadata": {
  "kernelspec": {
   "display_name": "Python 3 (ipykernel)",
   "language": "python",
   "name": "python3"
  }
 },
 "nbformat": 4,
 "nbformat_minor": 2
}
